{
 "cells": [
  {
   "cell_type": "markdown",
   "metadata": {},
   "source": [
    "1. Escribe una función que reciba una cadena de texto como parámetro y devuelva un diccionario con las frecuencias \n",
    "de cada letra en la cadena. Los espacios no deben ser considerados."
   ]
  },
  {
   "cell_type": "code",
   "execution_count": 1,
   "metadata": {},
   "outputs": [
    {
     "name": "stdout",
     "output_type": "stream",
     "text": [
      "{}\n"
     ]
    }
   ],
   "source": [
    "def strtodicc(word):\n",
    "    dicc = {}\n",
    "    for letra in word:\n",
    "        if letra != \" \":\n",
    "            dicc[letra] = dicc.get(letra, 0) + 1 #Devuelve el valor de la letra en dicc, si no existe devuelve 0\n",
    "    return dicc\n",
    "\n",
    "\n",
    "word = input(\"Escribe una palabra\")\n",
    "print(strtodicc(word))"
   ]
  },
  {
   "cell_type": "markdown",
   "metadata": {},
   "source": [
    "2. Dada una lista de números, obtén una nueva lista con el doble de cada valor. Usa la función map()"
   ]
  },
  {
   "cell_type": "code",
   "execution_count": 3,
   "metadata": {},
   "outputs": [
    {
     "name": "stdout",
     "output_type": "stream",
     "text": [
      "Lista original: [1, 2, 3, 4, 5]\n",
      "Lista con el doble de cada valor: [2, 4, 6, 8, 10]\n"
     ]
    }
   ],
   "source": [
    "numeros = list(map(int, input(\"Escribe una lista de números separada por espacios\").split()))\n",
    "print(\"Lista original:\", numeros)\n",
    "\n",
    "dobles = list(map(lambda x: x * 2, numeros))\n",
    "print(\"Lista con el doble de cada valor:\", dobles)\n"
   ]
  },
  {
   "cell_type": "markdown",
   "metadata": {},
   "source": [
    "3. Escribe una función que tome una lista de palabras y una palabra objetivo como parámetros. La función debe\n",
    "devolver una lista con todas las palabras de la lista original que contengan la palabra objetivo."
   ]
  },
  {
   "cell_type": "code",
   "execution_count": null,
   "metadata": {},
   "outputs": [
    {
     "name": "stdout",
     "output_type": "stream",
     "text": [
      "['sahola', 'holaasjdj', 'hola']\n"
     ]
    }
   ],
   "source": [
    "def subpalabra (lista, word):\n",
    "    finallist = []\n",
    "    for palabra in lista:\n",
    "        if palabra in word: finallist.append(palabra)\n",
    "    return finallist\n",
    "\n",
    "lista = list(input(\"Escribe una lista de palabras\").split())\n",
    "palabra = input(\"Dime una palabra\")\n",
    "print(subpalabra(lista, palabra))"
   ]
  },
  {
   "cell_type": "code",
   "execution_count": 43,
   "metadata": {},
   "outputs": [
    {
     "name": "stdout",
     "output_type": "stream",
     "text": [
      "['asas', 'chfdsay', 'jdsjdsa', 'sa']\n"
     ]
    }
   ],
   "source": [
    "#version 2 mas eficiente\n",
    "\n",
    "def sublista (lista, word):\n",
    "    return [palabra for palabra in lista if palabra in word]\n",
    "\n",
    "lista = list(input(\"Escribe una lista de palabras\").split())\n",
    "palabra = input(\"Dime una palabra\")\n",
    "print(subpalabra(lista, palabra))"
   ]
  },
  {
   "cell_type": "markdown",
   "metadata": {},
   "source": [
    "4. Genera una función que calcule la diferencia entre los valores de dos listas. Usa la función map()"
   ]
  },
  {
   "cell_type": "code",
   "execution_count": 46,
   "metadata": {},
   "outputs": [
    {
     "name": "stdout",
     "output_type": "stream",
     "text": [
      "[3, 1, 1, 3]\n"
     ]
    }
   ],
   "source": [
    "lista1 = list(map(int, input(\"Dame una lista de numeros\").split()))\n",
    "lista2 = list(map(int, input(\"Dame otra lista de numeros\").split()))\n",
    "\n",
    "print(list(map(lambda x, y: max(x,y) - min(x, y), lista1, lista2)))"
   ]
  },
  {
   "cell_type": "code",
   "execution_count": null,
   "metadata": {},
   "outputs": [
    {
     "name": "stdout",
     "output_type": "stream",
     "text": [
      "[341, 1, 19, 60]\n"
     ]
    }
   ],
   "source": [
    "#Version2\n",
    "\n",
    "def resta2 (x, y):\n",
    "    return max(x,y) - min(x, y)\n",
    "\n",
    "lista1 = list(map(int, input(\"Dame una lista de numeros\").split()))\n",
    "lista2 = list(map(int, input(\"Dame otra lista de numeros\").split()))\n",
    "\n",
    "print(list(map(resta2, lista1, lista2)))"
   ]
  },
  {
   "cell_type": "markdown",
   "metadata": {},
   "source": [
    "5. Esribe una función que tome una lista de números como parámetro y un valor opcional nota_aprobado, que por\n",
    "defecto es 5. La función debe calcular la media de los números en la lista y determinar si la media es mayor o igual\n",
    "que nota aprobado. Si es así, el estado será \"aprobado\", de lo contrario, será \"suspenso\". La función debe devolver\n",
    "una tupla que contenga la media y el estado.\n"
   ]
  },
  {
   "cell_type": "code",
   "execution_count": 52,
   "metadata": {},
   "outputs": [
    {
     "name": "stdout",
     "output_type": "stream",
     "text": [
      "(4.333333333333333, 'suspendido')\n"
     ]
    }
   ],
   "source": [
    "def calculamedia(listanotas, notamin = 5):\n",
    "    media = 0\n",
    "    for nota in listanotas:\n",
    "        media += nota\n",
    "    if media/len(listanotas) >= notamin: return (media/len(listanotas), \"aprobado\")\n",
    "    else: return (media/len(listanotas), \"suspendido\")\n",
    "\n",
    "listanotas = list(map(int, input(\"Escribe tus notas separadas con un espacio\").split()))\n",
    "notamin = int(input(\"Que nota minima necesitas para aprobar\"))\n",
    "\n",
    "print(calculamedia(listanotas, notamin))"
   ]
  },
  {
   "cell_type": "markdown",
   "metadata": {},
   "source": [
    "6. Escribe una función que calcule el factorial de un número de manera recursiva."
   ]
  },
  {
   "cell_type": "code",
   "execution_count": 77,
   "metadata": {},
   "outputs": [
    {
     "name": "stdout",
     "output_type": "stream",
     "text": [
      "El factorial de 5 es 120\n"
     ]
    }
   ],
   "source": [
    "def factorialrecursivo(x):\n",
    "    if x <= 0: return 1\n",
    "    else: return x * factorialrecursivo(x-1)\n",
    "\n",
    "x = int(input())\n",
    "print(f\"El factorial de {x} es {factorialrecursivo(x)}\")"
   ]
  },
  {
   "cell_type": "markdown",
   "metadata": {},
   "source": [
    "7. Genera una función que convierta una lista de tuplas a una lista de strings. Usa la función map()"
   ]
  },
  {
   "cell_type": "code",
   "execution_count": 59,
   "metadata": {},
   "outputs": [
    {
     "name": "stdout",
     "output_type": "stream",
     "text": [
      "['1 2 3', '4 5 6', '7 8 9']\n"
     ]
    }
   ],
   "source": [
    "def tuplas_a_strings(lista_tuplas):\n",
    "    return list(map(lambda tupla: ' '.join(map(str, tupla)), lista_tuplas))\n",
    "\n",
    "lista_tuplas = [(1, 2, 3), (4, 5, 6), (7, 8, 9)]\n",
    "resultado = tuplas_a_strings(lista_tuplas)\n",
    "print(resultado)\n"
   ]
  },
  {
   "cell_type": "markdown",
   "metadata": {},
   "source": [
    "8.Escribe un programa que pida al usuario dos números e intente dividirlos. Si el usuario ingresa un valor no numérico\n",
    "o intenta dividir por cero, maneja esas excepciones de manera adecuada. Asegúrate de mostrar un mensaje\n",
    "indicando si la división fue exitosa o no.\n"
   ]
  },
  {
   "cell_type": "code",
   "execution_count": 75,
   "metadata": {},
   "outputs": [
    {
     "name": "stdout",
     "output_type": "stream",
     "text": [
      "Ingresa un número válido\n"
     ]
    }
   ],
   "source": [
    "try:\n",
    "    x = int(input(\"Dime un numero\"))\n",
    "    y = int(input(\"Dime otro numero\"))\n",
    "\n",
    "    print(f\"El resultado de la divisón es: {x/y}\")\n",
    "\n",
    "except ValueError:\n",
    "    print(\"Ingresa un número válido\")\n",
    "\n",
    "except ZeroDivisionError:\n",
    "    print(\"No se puede dividir entre 0\")"
   ]
  },
  {
   "cell_type": "markdown",
   "metadata": {},
   "source": [
    "9.Escribe una función que tome una lista de nombres de mascotas como parámetro y devuelva una nueva lista\n",
    "excluyendo ciertas mascotas prohibidas en España. La lista de mascotas a excluir es [\"Mapache\", \"Tigre\",\n",
    "\"Serpiente Pitón\", \"Cocodrilo\", \"Oso\"].Usa la función filter()\n"
   ]
  },
  {
   "cell_type": "code",
   "execution_count": 83,
   "metadata": {},
   "outputs": [
    {
     "name": "stdout",
     "output_type": "stream",
     "text": [
      "['leon', 'mapo', 'perro']\n"
     ]
    }
   ],
   "source": [
    "\n",
    "animalesprohibidos = [\"Mapache\", \"Tigre\", \"Serpiente Pitón\", \"Cocodrilo\", \"Oso\"]\n",
    "listaanimales = list(input(\"Dime que animales tienes\").split())\n",
    "\n",
    "listafinal = list(filter(lambda mascota: mascota not in animalesprohibidos, listaanimales))\n",
    "print(listafinal)"
   ]
  },
  {
   "cell_type": "code",
   "execution_count": 86,
   "metadata": {},
   "outputs": [
    {
     "name": "stdout",
     "output_type": "stream",
     "text": [
      "[]\n"
     ]
    }
   ],
   "source": [
    "#Version2\n",
    "\n",
    "def animallegal(animal):\n",
    "    return animal not in animalesprohibidos\n",
    "\n",
    "animalesprohibidos = [\"Mapache\", \"Tigre\", \"Serpiente Pitón\", \"Cocodrilo\", \"Oso\"]\n",
    "listaanimales = list(input(\"Dime que animales tienes\").split())\n",
    "\n",
    "listafinal = list(filter(animallegal, listaanimales))\n",
    "print(listafinal)"
   ]
  },
  {
   "cell_type": "markdown",
   "metadata": {},
   "source": [
    "10. Esribe una función que reciba una lista de números y calcule su promedio. Si la lista está vacía, lanza una\n",
    "excepción personalizada y maneja el error adecuadamente.\n"
   ]
  },
  {
   "cell_type": "code",
   "execution_count": 101,
   "metadata": {},
   "outputs": [
    {
     "name": "stdout",
     "output_type": "stream",
     "text": [
      "2.0\n"
     ]
    }
   ],
   "source": [
    "def promedio(lista_numeros):\n",
    "    if not lista_numeros:\n",
    "        raise ValueError(\"La lista está vacía. No se puede calcular el promedio.\") \n",
    "    return sum(lista_numeros) / len(lista_numeros)\n",
    "\n",
    "try:\n",
    "    lista = list(map(int, input(\"Escribe una lista de números separados por espacio: \").split()))\n",
    "    print(promedio(lista))\n",
    "except ValueError:\n",
    "    print(\"La lista está vacía. No se puede calcular el promedio.\")  "
   ]
  },
  {
   "cell_type": "markdown",
   "metadata": {},
   "source": [
    "11. Escribe un programa que pida al usuario que introduzca su edad. Si el usuario ingresa un valor no numérico o un \n",
    "valor fuera del rango esperado (por ejemplo, menor que 0 o mayor que 120), maneja las excepciones \n",
    "adecuadamente."
   ]
  },
  {
   "cell_type": "code",
   "execution_count": 15,
   "metadata": {},
   "outputs": [
    {
     "name": "stdout",
     "output_type": "stream",
     "text": [
      "Escribe una edad correcta\n"
     ]
    }
   ],
   "source": [
    "\n",
    "try:\n",
    "    edad = int(input(\"Ingresa tu edad\"))\n",
    "    if edad < 0 or edad > 120: raise ValueError\n",
    "    print(f\"Tu edad es {edad}\")\n",
    "\n",
    "except ValueError:\n",
    "    print(\"Escribe una edad correcta\")\n"
   ]
  },
  {
   "cell_type": "markdown",
   "metadata": {},
   "source": [
    "12. Genera una función que al recibir una frase devuelva una lista con la longitud de cada palabra. Usa la función map()"
   ]
  },
  {
   "cell_type": "code",
   "execution_count": 18,
   "metadata": {},
   "outputs": [
    {
     "name": "stdout",
     "output_type": "stream",
     "text": [
      "[4, 2, 3, 5, 2, 7]\n"
     ]
    }
   ],
   "source": [
    "def listlen(palabra):\n",
    "    return len(palabra)\n",
    "\n",
    "frase = list(input(\"Escribe una frase\").split())\n",
    "\n",
    "longitudesfrase = list(map(listlen, frase))\n",
    "print (longitudesfrase)"
   ]
  },
  {
   "cell_type": "markdown",
   "metadata": {},
   "source": [
    "13.Genera una función la cual, para un conjunto de caracteres, devuelva una lista de tuplas con cada letra en \n",
    "mayúsculas y minúsculas. Las letras no pueden estar repetidas .Usa la función \n",
    "map()"
   ]
  },
  {
   "cell_type": "code",
   "execution_count": 22,
   "metadata": {},
   "outputs": [
    {
     "name": "stdout",
     "output_type": "stream",
     "text": [
      "[('H', 'h'), ('O', 'o'), ('A', 'a'), ('L', 'l')]\n"
     ]
    }
   ],
   "source": [
    "\n",
    "def letraatupla(letra):\n",
    "    return (letra.upper(), letra.lower())\n",
    "\n",
    "palabra = set(input(\"Dime una palabra\"))\n",
    "listatuplas = list(map(letraatupla,palabra))\n",
    "print(listatuplas)"
   ]
  },
  {
   "cell_type": "code",
   "execution_count": 27,
   "metadata": {},
   "outputs": [
    {
     "name": "stdout",
     "output_type": "stream",
     "text": [
      "[('P', 'p'), ('A', 'a'), ('L', 'l'), ('B', 'b'), ('R', 'r')]\n"
     ]
    }
   ],
   "source": [
    "#version2  ordenada\n",
    "def letraatupla(letra):\n",
    "    return (letra.upper(), letra.lower())\n",
    "\n",
    "palabra = (input(\"Dime una palabra\"))\n",
    "letrasunicas = sorted(set(palabra), key=palabra.index)\n",
    "listatuplas = list(map(letraatupla,letrasunicas))\n",
    "print(listatuplas)"
   ]
  },
  {
   "cell_type": "markdown",
   "metadata": {},
   "source": [
    "14. Crea una función que retorne las palabras de una lista de palabras que comience con una letra en especifico. Usa la funcion filter()"
   ]
  },
  {
   "cell_type": "code",
   "execution_count": 30,
   "metadata": {},
   "outputs": [
    {
     "name": "stdout",
     "output_type": "stream",
     "text": [
      "['esto', 'es', 'e', 'ecologia']\n"
     ]
    }
   ],
   "source": [
    "def empieza_por(palabra, letra):\n",
    "    return palabra[0] == letra\n",
    "\n",
    "frase = list(input(\"Dime una frase: \").split())\n",
    "letra = input(\"Dime una letra: \")\n",
    "\n",
    "# Usamos lambda para pasar 'letra' a la función empieza_por\n",
    "listafinal = list(filter(lambda palabra: empieza_por(palabra, letra), frase))\n",
    "\n",
    "print(listafinal)\n"
   ]
  },
  {
   "cell_type": "markdown",
   "metadata": {},
   "source": [
    "15. Crea una función lambda que  sume 3 a cada número de una lista dada."
   ]
  },
  {
   "cell_type": "code",
   "execution_count": 35,
   "metadata": {},
   "outputs": [
    {
     "name": "stdout",
     "output_type": "stream",
     "text": [
      "[4, 5, 6, 7, 8]\n"
     ]
    }
   ],
   "source": [
    "listanum = list(map(int, input(\"Escribe una serie de numeros\").split()))\n",
    "\n",
    "listafinal = list(map(lambda num: num + 3, listanum))\n",
    "print(listafinal)"
   ]
  },
  {
   "cell_type": "markdown",
   "metadata": {},
   "source": [
    "16. Escribe una función que tome una cadena de texto y un número entero n como parámetros y devuelva una lista de \n",
    "todas las palabras que sean más largas que n. Usa la función \n",
    "filter()"
   ]
  },
  {
   "cell_type": "code",
   "execution_count": 38,
   "metadata": {},
   "outputs": [
    {
     "name": "stdout",
     "output_type": "stream",
     "text": [
      "['lista', 'larga', 'palabraslargas', 'extralargas']\n"
     ]
    }
   ],
   "source": [
    "def largas (palabra, n):\n",
    "    return len(palabra) > n\n",
    "\n",
    "frase = list(input(\"Dime una frase: \").split())\n",
    "n = int(input(\"Dime un numero: \"))\n",
    "\n",
    "listafiltrada = list(filter(lambda palabra: largas(palabra, n), frase))\n",
    "print(listafiltrada)"
   ]
  },
  {
   "cell_type": "markdown",
   "metadata": {},
   "source": [
    "17. Crea una función que tome una lista de dígitos y devuelva el número correspondiente. Por ejemplo, (5,7,2)\n",
    "corresponde al número quinientos setenta y dos (572). Usa la función \n",
    "reduce()"
   ]
  },
  {
   "cell_type": "code",
   "execution_count": 39,
   "metadata": {},
   "outputs": [
    {
     "name": "stdout",
     "output_type": "stream",
     "text": [
      "567\n"
     ]
    }
   ],
   "source": [
    "from functools import reduce\n",
    "\n",
    "\n",
    "listanum = list(map(int, input().split()))\n",
    "numfinal = reduce(lambda x, y: 10*x +y, listanum)\n",
    "print(numfinal)"
   ]
  },
  {
   "cell_type": "markdown",
   "metadata": {},
   "source": [
    "18. Escribe un programa en Python que cree una lista de diccionarios que contenga información de estudiantes \n",
    "(nombre, edad, calificación) y use la función filter para extraer a los estudiantes con una calificación mayor o igual a  90 Usa la función \n",
    "filter()"
   ]
  },
  {
   "cell_type": "code",
   "execution_count": 50,
   "metadata": {},
   "outputs": [
    {
     "name": "stdout",
     "output_type": "stream",
     "text": [
      "[{'Ana': [22, 92]}, {'Marta': [24, 90]}, {'Laura': [25, 95]}]\n"
     ]
    }
   ],
   "source": [
    "\n",
    "def inteligentes(dicc):\n",
    "    return list(dicc.values())[0][1] >= 90\n",
    "\n",
    "estudiantes = [\n",
    "    {\"Juan\": [20, 85]},\n",
    "    {\"Ana\": [22, 92]},\n",
    "    {\"Carlos\": [19, 78]},\n",
    "    {\"María\": [21, 88]},\n",
    "    {\"Luis\": [23, 75]},\n",
    "    {\"Marta\": [24, 90]},\n",
    "    {\"José\": [18, 80]},\n",
    "    {\"Laura\": [25, 95]},\n",
    "    {\"Pedro\": [20, 83]},\n",
    "    {\"Sofía\": [22, 89]}\n",
    "]\n",
    "\n",
    "listaestudiantes = list(filter(inteligentes,estudiantes))\n",
    "print(listaestudiantes)\n"
   ]
  },
  {
   "cell_type": "markdown",
   "metadata": {},
   "source": [
    "19. Crea una función \n",
    "lambda que filtre los números impares de una lista dada."
   ]
  },
  {
   "cell_type": "code",
   "execution_count": null,
   "metadata": {},
   "outputs": [
    {
     "name": "stdout",
     "output_type": "stream",
     "text": [
      "[2, 4, 6, 8]\n"
     ]
    }
   ],
   "source": [
    "listanum = list(map(int, input().split()))\n",
    "numfinal = list(filter(lambda x: x%2 == 0, listanum)) #entiendo que el enunciado pide que los impares los descarta \n",
    "print(numfinal)"
   ]
  },
  {
   "cell_type": "markdown",
   "metadata": {},
   "source": [
    "20. Para una lista con elementos tipo integer y string obtén una nueva lista sólo con los valores int. Usa la función \n",
    "filter()"
   ]
  },
  {
   "cell_type": "code",
   "execution_count": 57,
   "metadata": {},
   "outputs": [
    {
     "name": "stdout",
     "output_type": "stream",
     "text": [
      "[23, 42, 17, 56, 89]\n"
     ]
    }
   ],
   "source": [
    "mi_lista = [23, \"manzana\", 42, \"naranja\", 17, \"plátano\", 56, \"uva\", 89, \"cereza\"]\n",
    "\n",
    "filteredlist = list(filter(lambda x: type(x) == int, mi_lista))\n",
    "print(filteredlist)"
   ]
  },
  {
   "cell_type": "markdown",
   "metadata": {},
   "source": [
    "21. Crea una función que calcule el cubo de un número dado mediante una función \n",
    "lambda"
   ]
  },
  {
   "cell_type": "code",
   "execution_count": 59,
   "metadata": {},
   "outputs": [
    {
     "name": "stdout",
     "output_type": "stream",
     "text": [
      "27\n"
     ]
    }
   ],
   "source": [
    "cubo = lambda x: x*x*x\n",
    "\n",
    "x = int(input(\"Escribe un numero\"))\n",
    "\n",
    "numalcubo = cubo(x)\n",
    "print(numalcubo)"
   ]
  },
  {
   "cell_type": "markdown",
   "metadata": {},
   "source": [
    "22. Dada una lista numérica, obtén el producto total de los valores de dicha lista.Usa la función \n",
    "reduce() "
   ]
  },
  {
   "cell_type": "code",
   "execution_count": null,
   "metadata": {},
   "outputs": [
    {
     "name": "stdout",
     "output_type": "stream",
     "text": [
      "120\n"
     ]
    }
   ],
   "source": [
    "from functools import reduce\n",
    "\n",
    "listanum = list(map(int, input().split()))\n",
    "\n",
    "producto = reduce(lambda x, y: x*y, listanum)\n",
    "print(producto)"
   ]
  },
  {
   "cell_type": "markdown",
   "metadata": {},
   "source": [
    "23. Concatena una lista de palabras.Usa la función \n",
    "reduce() ."
   ]
  },
  {
   "cell_type": "code",
   "execution_count": null,
   "metadata": {},
   "outputs": [
    {
     "name": "stdout",
     "output_type": "stream",
     "text": [
      "dsdsdsfdsfdrgfddggffd\n"
     ]
    }
   ],
   "source": [
    "import functools\n",
    "\n",
    "frase = list(input(\"Dime una frase: \").split())\n",
    "\n",
    "concatenacion = functools.reduce(lambda palabra1, palabra2: palabra1 + palabra2, frase) #si se quisiese concatenar con espacios pondriamos palabra1 + \" \" + palabra2\n",
    "print(concatenacion)"
   ]
  },
  {
   "cell_type": "markdown",
   "metadata": {},
   "source": [
    "24. Calcula la diferencia total en los valores de una lista. Usa la función \n",
    "reduce() "
   ]
  },
  {
   "cell_type": "code",
   "execution_count": 64,
   "metadata": {},
   "outputs": [
    {
     "name": "stdout",
     "output_type": "stream",
     "text": [
      "-100\n"
     ]
    }
   ],
   "source": [
    "from functools import reduce\n",
    "\n",
    "listanum = list(map(int, input().split()))\n",
    "\n",
    "diferenciatotal = reduce(lambda x, y: x - y, listanum)\n",
    "print(diferenciatotal)"
   ]
  },
  {
   "cell_type": "markdown",
   "metadata": {},
   "source": [
    "25. Crea una función que cuente el número de caracteres en una cadena de texto dada"
   ]
  },
  {
   "cell_type": "code",
   "execution_count": 67,
   "metadata": {},
   "outputs": [
    {
     "name": "stdout",
     "output_type": "stream",
     "text": [
      "21\n"
     ]
    }
   ],
   "source": [
    "#equivalente a len(palabra)\n",
    "def cuentacaracteres(palabra):\n",
    "    count = 0\n",
    "    for letra in palabra:\n",
    "        count += 1\n",
    "    return count\n",
    "\n",
    "palabra = input(\"Dime una palabra\")\n",
    "print(cuentacaracteres(palabra))"
   ]
  },
  {
   "cell_type": "markdown",
   "metadata": {},
   "source": [
    "26. Crea una función \n",
    "lambda que calcule el resto de la división entre dos números dados."
   ]
  },
  {
   "cell_type": "code",
   "execution_count": 72,
   "metadata": {},
   "outputs": [
    {
     "name": "stdout",
     "output_type": "stream",
     "text": [
      "22\n"
     ]
    }
   ],
   "source": [
    "\n",
    "resto = lambda x, y: x % y\n",
    "\n",
    "num1 = int(input())\n",
    "num2 = int(input())\n",
    "\n",
    "print(resto(num1,num2))"
   ]
  },
  {
   "cell_type": "markdown",
   "metadata": {},
   "source": [
    "27. Crea una función que calcule el promedio de una lista de números."
   ]
  },
  {
   "cell_type": "code",
   "execution_count": null,
   "metadata": {},
   "outputs": [
    {
     "name": "stdout",
     "output_type": "stream",
     "text": [
      "15.0\n"
     ]
    }
   ],
   "source": [
    "\n",
    "def promedio (lista):\n",
    "    return sum(lista)/len(lista) #suma todos los elementos de la lista y divide entre el numero de elementos\n",
    "\n",
    "lista = list(map(int, input().split()))\n",
    "print(promedio(lista))"
   ]
  },
  {
   "cell_type": "markdown",
   "metadata": {},
   "source": [
    "28. Crea una función que busque y devuelva el primer elemento duplicado en una lista dada."
   ]
  },
  {
   "cell_type": "code",
   "execution_count": 18,
   "metadata": {},
   "outputs": [
    {
     "name": "stdout",
     "output_type": "stream",
     "text": [
      "4\n"
     ]
    }
   ],
   "source": [
    "def primerduplicado (lista):\n",
    "    visitados = set() #Set para ver que elementos ya hemos visto en lista y comprobar si hay duplicados (usamos set porque añadir y buscar ahi es mas eficiente que en una lista)\n",
    "    for elem in lista:\n",
    "        if elem in visitados: \n",
    "            return elem\n",
    "        visitados.add(elem)\n",
    "    return None\n",
    "\n",
    "\n",
    "\n",
    "lista = list(map(int, input().split()))\n",
    "print(primerduplicado(lista))"
   ]
  },
  {
   "cell_type": "code",
   "execution_count": null,
   "metadata": {},
   "outputs": [
    {
     "name": "stdout",
     "output_type": "stream",
     "text": [
      "2\n"
     ]
    }
   ],
   "source": [
    "#Probando por curiosidad otro codigo que encuentre el valor repetido mas pequeño\n",
    "def primerduplicado (lista):\n",
    "    ordenada = sorted(lista)\n",
    "    i = 0\n",
    "    while i <= (len(lista) -1):\n",
    "        if ordenada[i] == ordenada[i+1]: return ordenada[i]\n",
    "        i += 1\n",
    "    return None\n",
    "\n",
    "\n",
    "\n",
    "lista = list(map(int, input().split()))\n",
    "print(primerduplicado(lista))"
   ]
  },
  {
   "cell_type": "markdown",
   "metadata": {},
   "source": [
    "29. Crea una función que convierta una variable en una cadena de texto y enmascare todos los caracteres  con el \n",
    "carácter '#', excepto los últimos cuatro."
   ]
  },
  {
   "cell_type": "code",
   "execution_count": null,
   "metadata": {},
   "outputs": [
    {
     "name": "stdout",
     "output_type": "stream",
     "text": [
      "#### ######### #####dsm,\n"
     ]
    }
   ],
   "source": [
    "#Version1 si no codificamos los \" \"\n",
    "def codifica(num):\n",
    "    palabra = str(num)\n",
    "    if len(palabra) < 4:  \n",
    "        raise ValueError #si tiene menos de 4 caracteres da error\n",
    "    palabra_codificada = \"\"\n",
    "    for i in range(len(palabra) - 4):\n",
    "        if palabra[i] != \" \":\n",
    "            palabra_codificada += \"#\" \n",
    "        else:\n",
    "            palabra_codificada += \" \"  \n",
    "    palabra_codificada += palabra[len(palabra)-4:len(palabra)] #añade ultimos 4 caracteres sin codificar\n",
    "    return palabra_codificada\n",
    "\n",
    "try:\n",
    "    numero = input(\"Escribe una variable con al menos 4 caracteres/dígitos: \")\n",
    "    print(codifica(numero))\n",
    "except ValueError:\n",
    "    print(\"La variable debe tener al menos 4 caracteres/dígitos\")\n"
   ]
  },
  {
   "cell_type": "code",
   "execution_count": 35,
   "metadata": {},
   "outputs": [
    {
     "name": "stdout",
     "output_type": "stream",
     "text": [
      "############################sdds\n"
     ]
    }
   ],
   "source": [
    "#version2 si los espacios tambien se deben codificar\n",
    "\n",
    "def codifica(num):\n",
    "    palabra = str(num)\n",
    "    largaria = len(palabra)\n",
    "    if largaria < 4:  \n",
    "        raise ValueError #si tiene menos de 4 caracteres da error\n",
    "    cadena1 = \"#\" * (largaria - 4)\n",
    "    cadena2 = palabra[largaria-4:largaria]\n",
    "    return cadena1 + cadena2\n",
    "\n",
    "try:\n",
    "    numero = input(\"Escribe una variable con al menos 4 caracteres/dígitos: \")\n",
    "    print(codifica(numero))\n",
    "except ValueError:\n",
    "    print(\"La variable debe tener al menos 4 caracteres/dígitos\")\n"
   ]
  },
  {
   "cell_type": "markdown",
   "metadata": {},
   "source": [
    "30. Crea una función que determine si dos palabras son anagramas, es decir, si están formadas por las mismas letras \n",
    "pero en diferente orden"
   ]
  },
  {
   "cell_type": "code",
   "execution_count": null,
   "metadata": {},
   "outputs": [
    {
     "name": "stdout",
     "output_type": "stream",
     "text": [
      "Las palabras son anagramas\n"
     ]
    }
   ],
   "source": [
    "#Despues de escribir esto me hedado cuenta que estaria mal ya que subset elimina repeticiones, solo funciona si no hay repeticiones, abajo version2 bien\n",
    "def anagramas(palanbra1, palabra2):\n",
    "    return palabra1.issubset(palabra2) and palabra2.issubset(palabra1)\n",
    "\n",
    "\n",
    "palabra1 = set(input(\"Escribe una palabra\"))\n",
    "palabra2 = set(input(\"Escribe otra palabra\"))\n",
    "\n",
    "if anagramas(palabra1, palabra2):\n",
    "    print(\"Las palabras son anagramas\")\n",
    "else: \n",
    "    print(\"Estas palabras no son anagramas\")"
   ]
  },
  {
   "cell_type": "code",
   "execution_count": 42,
   "metadata": {},
   "outputs": [
    {
     "name": "stdout",
     "output_type": "stream",
     "text": [
      "Las palabras son anagramas.\n"
     ]
    }
   ],
   "source": [
    "#Version2 correcta\n",
    "\n",
    "def anagramas(palabra1, palabra2):\n",
    "    # Ordenar ambas palabras y comparar\n",
    "    return sorted(palabra1) == sorted(palabra2)\n",
    "\n",
    "palabra1 = input(\"Escribe la primera palabra\")\n",
    "palabra2 = input(\"Escribe la segunda palabra\")\n",
    "\n",
    "if anagramas(palabra1, palabra2):\n",
    "    print(\"Las palabras son anagramas.\")\n",
    "else:\n",
    "    print(\"Estas palabras no son anagramas.\")\n"
   ]
  },
  {
   "cell_type": "markdown",
   "metadata": {},
   "source": [
    "31. Crea una función que solicite al usuario ingresar una lista de nombres y luego solicite un nombre para buscar en \n",
    "esa lista. Si el nombre está en la lista, se imprime un mensaje indicando que fue encontrado, de lo contrario, se \n",
    "lanza una excepción."
   ]
  },
  {
   "cell_type": "code",
   "execution_count": null,
   "metadata": {},
   "outputs": [
    {
     "name": "stdout",
     "output_type": "stream",
     "text": [
      "El nombre no se encuentra en la lista\n"
     ]
    }
   ],
   "source": [
    "try:\n",
    "    lista = list(input(\"Escribe una lista de nombres\").split())\n",
    "    nombre = input(\"Escribe un nombre de la lista\")\n",
    "    if nombre in lista:\n",
    "        print(\"nombre encontrado\")\n",
    "    else: \n",
    "        raise ValueError\n",
    "except ValueError:\n",
    "    print(\"El nombre no se encuentra en la lista\")"
   ]
  },
  {
   "cell_type": "markdown",
   "metadata": {},
   "source": [
    "32. Crea una función que tome un nombre completo y una lista de empleados, busque el nombre completo en la lista y \n",
    "devuelve el puesto del empleado si está en la lista, de lo contrario, devuelve un mensaje indicando que la persona \n",
    "no trabaja aquí."
   ]
  },
  {
   "cell_type": "code",
   "execution_count": 48,
   "metadata": {},
   "outputs": [
    {
     "name": "stdout",
     "output_type": "stream",
     "text": [
      "Esta persona no trabaja aqui\n"
     ]
    }
   ],
   "source": [
    "def puestode(nombrecompleto, listaempleados):\n",
    "    for empleado in listaempleados:\n",
    "        if nombrecompleto in empleado: return empleado[nombrecompleto]\n",
    "    return \"Esta persona no trabaja aqui\"\n",
    "\n",
    "empleados = [\n",
    "    {\"Juan Pérez Rodríguez\": \"Gerente de Marketing\"},\n",
    "    {\"Ana Gómez Sánchez\": \"Directora de Recursos Humanos\"},\n",
    "    {\"Carlos Rodríguez Pérez\": \"Desarrollador de Software\"},\n",
    "    {\"Laura Fernández Díaz\": \"Jefa de Ventas\"},\n",
    "    {\"Pedro Martínez López\": \"Analista de Datos\"},\n",
    "    {\"María López Fernández\": \"Coordinadora de Proyectos\"},\n",
    "    {\"Sofía Sánchez Ramírez\": \"Especialista en SEO\"},\n",
    "    {\"Luis Díaz García\": \"Consultor de Estrategia\"},\n",
    "    {\"Marta García López\": \"Asistente Ejecutiva\"},\n",
    "    {\"José Hernández Martín\": \"Director de Finanzas\"}\n",
    "]\n",
    "\n",
    "nombrecompleto = input(\"Dime el nombre completo del empleado que quieres buscar\")\n",
    "print(puestode(nombrecompleto, empleados))"
   ]
  },
  {
   "cell_type": "markdown",
   "metadata": {},
   "source": [
    "33. Crea una función \n",
    "lambda que sume elementos correspondientes de dos listas dadas."
   ]
  },
  {
   "cell_type": "code",
   "execution_count": 49,
   "metadata": {},
   "outputs": [
    {
     "name": "stdout",
     "output_type": "stream",
     "text": [
      "[6, 8, 10, 12]\n"
     ]
    }
   ],
   "source": [
    "\n",
    "suma_listas = lambda lista1, lista2: list(map(lambda x, y: x + y, lista1, lista2))\n",
    "\n",
    "lista1 = [1, 2, 3, 4]\n",
    "lista2 = [5, 6, 7, 8]\n",
    "\n",
    "resultado = suma_listas(lista1, lista2)\n",
    "print(resultado)\n"
   ]
  },
  {
   "cell_type": "markdown",
   "metadata": {},
   "source": [
    "34. Crea la clase \n",
    "Arbol , define un árbol genérico con un tronco y ramas como atributos. Los métodos disponibles son: \n",
    "crecer_tronco , \n",
    "nueva_rama , \n",
    "crecer_ramas , \n",
    "quitar_rama e \n",
    "info_arbol . El objetivo es implementar estos métodos para \n",
    "manipular la estructura del árbol."
   ]
  },
  {
   "cell_type": "code",
   "execution_count": 73,
   "metadata": {},
   "outputs": [
    {
     "data": {
      "text/plain": [
       "'La longitud del tronco es: 2, el arbol tiene: 2 ramas y las longitudes de las ramas son: [2, 1]'"
      ]
     },
     "execution_count": 73,
     "metadata": {},
     "output_type": "execute_result"
    }
   ],
   "source": [
    "class Arbol:\n",
    "    def __init__(self):\n",
    "        self.tronco = 1\n",
    "        self.ramas = []\n",
    "    \n",
    "    def crecer_tronco(self):\n",
    "        self.tronco += 1\n",
    "\n",
    "    def nueva_rama(self):\n",
    "        self.ramas.append({'numero': len(self.ramas), 'longitud': 1})\n",
    "    \n",
    "    def crecer_ramas(self):\n",
    "        for rama in self.ramas:\n",
    "            rama['longitud'] += 1\n",
    "    \n",
    "    def quitar_rama(self, pos):\n",
    "        if 0 <= pos < len(self.ramas):\n",
    "            del self.ramas[pos]  # Eliminar la rama en la posición indicada, usamos del en vez de pop ya que no queremos el valor eliminado\n",
    "        else:\n",
    "            print(\"Posición no válida para eliminar la rama.\")\n",
    "    \n",
    "    def info_arbol(self):\n",
    "        longitudes = []\n",
    "        for rama in self.ramas:\n",
    "            longitudes.append(rama['longitud'])\n",
    "\n",
    "        return(f\"La longitud del tronco es: {self.tronco}, el arbol tiene: {len(self.ramas)} ramas y las longitudes de las ramas son: {longitudes}\")\n",
    "    \n",
    "#Caso 1\n",
    "arbolito = Arbol()\n",
    "\n",
    "#Caso2\n",
    "arbolito.crecer_tronco()\n",
    "\n",
    "#Caso3\n",
    "arbolito.nueva_rama()\n",
    "\n",
    "#Caso4\n",
    "arbolito.crecer_ramas()\n",
    "\n",
    "#Caso5\n",
    "arbolito.nueva_rama()\n",
    "arbolito.nueva_rama()\n",
    "\n",
    "#Caso6\n",
    "arbolito.quitar_rama(2)\n",
    "\n",
    "#Caso7\n",
    "arbolito.info_arbol()\n",
    "\n",
    "\n",
    "\n"
   ]
  },
  {
   "cell_type": "markdown",
   "metadata": {},
   "source": [
    "36. Crea la clase \n",
    "UsuarioBanco ,representa a un usuario de un banco con su nombre, saldo y si tiene o no cuenta \n",
    "corriente. Proporciona métodos para realizar operaciones como retirar dinero, transferir dinero desde otro usuario y \n",
    "agregar dinero al saldo"
   ]
  },
  {
   "cell_type": "code",
   "execution_count": null,
   "metadata": {},
   "outputs": [
    {
     "name": "stdout",
     "output_type": "stream",
     "text": [
      "Dinero agregado conn éxito, saldo actual: 70\n",
      "Bob no tiene saldo suficiente para transferir 80.\n",
      "Dinero retirado con éxito\n"
     ]
    }
   ],
   "source": [
    "class UsuarioBanco:\n",
    "    def __init__(self, nombre, saldo, tienecuenta):\n",
    "        self.nombre = nombre\n",
    "        self.saldo = saldo\n",
    "        self.tienecuenta = tienecuenta\n",
    "\n",
    "    def retirar_dinero(self, cantidad):\n",
    "        if self.saldo >= cantidad:\n",
    "            self.saldo -= cantidad\n",
    "            print(\"Dinero retirado con éxito\")\n",
    "        else : ValueError(f\"No tienes suficiente dinero para retirar. saldo actual: {self.saldo}\")\n",
    "\n",
    "    def transferir_dinero(self, receptor, cantidad):\n",
    "        if cantidad > self.saldo:\n",
    "            raise ValueError(f\"{self.nombre} no tiene saldo suficiente para transferir {cantidad}.\")\n",
    "        self.saldo -= cantidad\n",
    "        receptor.agregar_dinero(cantidad)\n",
    "        print(\"Transferencia realizada correctamente\")\n",
    "\n",
    "    def agregar_dinero(self, cantidad):\n",
    "        self.saldo += cantidad\n",
    "        print(f\"Dinero agregado conn éxito, saldo actual: {self.saldo}\")\n",
    "\n",
    "\n",
    "Alicia = UsuarioBanco(\"Alicia\", 100, True)\n",
    "Bob = UsuarioBanco(\"Bob\", 50, True)\n",
    "\n",
    "Bob.agregar_dinero(20)\n",
    "\n",
    "try:\n",
    "    Bob.transferir_dinero(Alicia, 80)\n",
    "except ValueError as e:\n",
    "    print(e) #Saldrá en pantalla lo que pongamos en el raise ValueError para obtener una mayoir personalziacion para cada caso de error\n",
    "\n",
    "try:\n",
    "    Alicia.retirar_dinero(50) \n",
    "except ValueError as e:\n",
    "    print(e) #Saldrá en pantalla lo que pongamos en el raise ValueError para obtener una mayoir personalziacion para cada caso de error"
   ]
  },
  {
   "cell_type": "markdown",
   "metadata": {},
   "source": [
    "37. Crea una función llamada \n",
    "procesar_texto que procesa un texto según la opción especificada: contar_palabras, reemplazar_palabras , eliminar palabra. Estas opciones son otras funciones que tenemos que definir primero y llamar dentro de la función procesar_texto."
   ]
  },
  {
   "cell_type": "code",
   "execution_count": 12,
   "metadata": {},
   "outputs": [
    {
     "ename": "IndexError",
     "evalue": "tuple index out of range",
     "output_type": "error",
     "traceback": [
      "\u001b[1;31m---------------------------------------------------------------------------\u001b[0m",
      "\u001b[1;31mIndexError\u001b[0m                                Traceback (most recent call last)",
      "Cell \u001b[1;32mIn[12], line 29\u001b[0m\n\u001b[0;32m     26\u001b[0m \u001b[38;5;28;01mtry\u001b[39;00m:\n\u001b[0;32m     27\u001b[0m     procesar_texto(texto, \u001b[38;5;124m\"\u001b[39m\u001b[38;5;124mcontar\u001b[39m\u001b[38;5;124m\"\u001b[39m)\n\u001b[1;32m---> 29\u001b[0m     \u001b[43mprocesar_texto\u001b[49m\u001b[43m(\u001b[49m\u001b[43mtexto\u001b[49m\u001b[43m,\u001b[49m\u001b[43m \u001b[49m\u001b[38;5;124;43m\"\u001b[39;49m\u001b[38;5;124;43mreemplazar\u001b[39;49m\u001b[38;5;124;43m\"\u001b[39;49m\u001b[43m,\u001b[49m\u001b[43m \u001b[49m\u001b[38;5;124;43m\"\u001b[39;49m\u001b[38;5;124;43mplaza\u001b[39;49m\u001b[38;5;124;43m\"\u001b[39;49m\u001b[43m,\u001b[49m\u001b[43m \u001b[49m\u001b[38;5;124;43m\"\u001b[39;49m\u001b[38;5;124;43mmesa\u001b[39;49m\u001b[38;5;124;43m\"\u001b[39;49m\u001b[43m)\u001b[49m\n\u001b[0;32m     31\u001b[0m     procesar_texto(texto, \u001b[38;5;124m\"\u001b[39m\u001b[38;5;124meliminar\u001b[39m\u001b[38;5;124m\"\u001b[39m, \u001b[38;5;124m\"\u001b[39m\u001b[38;5;124mcarnes\u001b[39m\u001b[38;5;124m\"\u001b[39m)\n\u001b[0;32m     32\u001b[0m \u001b[38;5;28;01mexcept\u001b[39;00m \u001b[38;5;167;01mValueError\u001b[39;00m:\n",
      "Cell \u001b[1;32mIn[12], line 17\u001b[0m, in \u001b[0;36mprocesar_texto\u001b[1;34m(texto, opcion, *args)\u001b[0m\n\u001b[0;32m     15\u001b[0m \u001b[38;5;28;01mdef\u001b[39;00m \u001b[38;5;21mprocesar_texto\u001b[39m(texto, opcion, \u001b[38;5;241m*\u001b[39margs):\n\u001b[0;32m     16\u001b[0m     \u001b[38;5;28;01mif\u001b[39;00m opcion\u001b[38;5;241m.\u001b[39mlower() \u001b[38;5;241m==\u001b[39m \u001b[38;5;124m\"\u001b[39m\u001b[38;5;124mcontar\u001b[39m\u001b[38;5;124m\"\u001b[39m: \u001b[38;5;28;01mreturn\u001b[39;00m contar_palabras(texto)\n\u001b[1;32m---> 17\u001b[0m     \u001b[38;5;28;01melif\u001b[39;00m opcion\u001b[38;5;241m.\u001b[39mlower() \u001b[38;5;241m==\u001b[39m \u001b[38;5;124m\"\u001b[39m\u001b[38;5;124mreemplazar\u001b[39m\u001b[38;5;124m\"\u001b[39m: \u001b[38;5;28;01mreturn\u001b[39;00m reemplazar_palabras(texto, args[\u001b[38;5;241m1\u001b[39m],\u001b[43margs\u001b[49m\u001b[43m[\u001b[49m\u001b[38;5;241;43m2\u001b[39;49m\u001b[43m]\u001b[49m )\n\u001b[0;32m     18\u001b[0m     \u001b[38;5;28;01melif\u001b[39;00m opcion\u001b[38;5;241m.\u001b[39mlower() \u001b[38;5;241m==\u001b[39m \u001b[38;5;124m\"\u001b[39m\u001b[38;5;124meliminar\u001b[39m\u001b[38;5;124m\"\u001b[39m: \u001b[38;5;28;01mreturn\u001b[39;00m eliminar_palabra(texto, args[\u001b[38;5;241m1\u001b[39m]) \u001b[38;5;66;03m#con el lower nos ahorramos errores por poner alguna mayuscula\u001b[39;00m\n\u001b[0;32m     19\u001b[0m     \u001b[38;5;28;01melse\u001b[39;00m: \u001b[38;5;28;01mraise\u001b[39;00m \u001b[38;5;167;01mValueError\u001b[39;00m\n",
      "\u001b[1;31mIndexError\u001b[0m: tuple index out of range"
     ]
    }
   ],
   "source": [
    "\n",
    "def contar_palabras(texto):\n",
    "    frecuencias = {}\n",
    "    textoodividido = list(texto.split())\n",
    "    for palabra in texto:\n",
    "        frecuencias[palabra] = frecuencias.get(palabra, 0) + 1\n",
    "    return frecuencias\n",
    "\n",
    "def reemplazar_palabras(texto, original, nueva):\n",
    "    return texto.replace(original, nueva)\n",
    "    \n",
    "\n",
    "def eliminar_palabra(texto, palabra):\n",
    "    return texto.replace(f\" {palabra} \", \" \").replace(f\" {palabra}\", \"\").replace(f\"{palabra} \", \"\").replace(palabra, \"\")\n",
    "    \n",
    "def procesar_texto(texto, opcion, *args):\n",
    "    if opcion.lower() == \"contar\": return contar_palabras(texto)\n",
    "    elif opcion.lower() == \"reemplazar\": return reemplazar_palabras(texto, args[1],args[2] )\n",
    "    elif opcion.lower() == \"eliminar\": return eliminar_palabra(texto, args[1]) #con el lower nos ahorramos errores por poner alguna mayuscula\n",
    "    else: raise ValueError\n",
    "\n",
    "\n",
    "texto = \"\"\"En un lugar de la Mancha, de cuyo nombre no quiero acordarme, no ha mucho tiempo que vivía un hidalgo de los de lanza en astillero, adarga antigua, rocín flaco y galgo corredor. Una olla de algo más vaca que carnero, salpicón las más noches, duelos y quebrantos los sábados, lentejas los viernes, algún palomino de añadidura los domingos, consumían las tres partes de su hacienda. El resto della concluían sayo de velarte, calzas de velludo para las fiestas con sus pantuflos de lo mismo, los días de entresemana se honraba con su vellorí de lo más fino. Tenía en su casa una ama que pasaba de los cuarenta, y una sobrina que no llegaba a los veinte, y un mozo de campo y plaza que así ensillaba el rocín como tomaba la podadera. \n",
    "\n",
    "Frisaba la edad de nuestro hidalgo con los cincuenta años; era de complexión recia, seco de carnes, enjuto de rostro, gran madrugador y amigo de la caza. Quieren decir que tenía el sobrenombre de Quijada, o Quesada, que en esto hay alguna diferencia en los autores que deste caso escriben; aunque por conjeturas verosímiles se deja entender que se llamaba Quijana. Pero esto importa poco a nuestro cuento; basta que en la narración dél no se salga un punto de la verdad.\"\"\"\n",
    "\n",
    "try:\n",
    "    procesar_texto(texto, \"contar\")\n",
    "\n",
    "    procesar_texto(texto, \"reemplazar\", \"plaza\", \"mesa\")\n",
    "\n",
    "    procesar_texto(texto, \"eliminar\", \"carnes\")\n",
    "except ValueError:\n",
    "    print(\"Escoge una operación correcta: contar, reemplazar o eliminar\")"
   ]
  }
 ],
 "metadata": {
  "kernelspec": {
   "display_name": "Python 3",
   "language": "python",
   "name": "python3"
  },
  "language_info": {
   "codemirror_mode": {
    "name": "ipython",
    "version": 3
   },
   "file_extension": ".py",
   "mimetype": "text/x-python",
   "name": "python",
   "nbconvert_exporter": "python",
   "pygments_lexer": "ipython3",
   "version": "3.13.0"
  }
 },
 "nbformat": 4,
 "nbformat_minor": 2
}
